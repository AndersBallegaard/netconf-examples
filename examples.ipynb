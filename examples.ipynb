{
 "metadata": {
  "language_info": {
   "codemirror_mode": {
    "name": "ipython",
    "version": 3
   },
   "file_extension": ".py",
   "mimetype": "text/x-python",
   "name": "python",
   "nbconvert_exporter": "python",
   "pygments_lexer": "ipython3",
   "version": "3.8.2-final"
  },
  "orig_nbformat": 2,
  "kernelspec": {
   "name": "python_defaultSpec_1598173756034",
   "display_name": "Python 3.8.2 64-bit"
  }
 },
 "nbformat": 4,
 "nbformat_minor": 2,
 "cells": [
  {
   "cell_type": "markdown",
   "metadata": {
    "tags": []
   },
   "source": [
    "### Import some settings, and modules\n"
   ]
  },
  {
   "cell_type": "code",
   "execution_count": 21,
   "metadata": {
    "tags": []
   },
   "outputs": [
    {
     "output_type": "stream",
     "name": "stdout",
     "text": "{'host': 'ios-xe-mgmt-latest.cisco.com', 'username': 'developer', 'password': 'C1sco12345', 'netconf_port': 10000}\n"
    }
   ],
   "source": [
    "import json\n",
    "from pprint import pp\n",
    "from ncclient import manager\n",
    "import xmltodict\n",
    "import xml.dom.minidom\n",
    "settings = {}\n",
    "with open(\"settings.json\") as f:\n",
    "    settings = json.loads(f.read())\n",
    "print(settings)"
   ]
  },
  {
   "cell_type": "markdown",
   "metadata": {},
   "source": [
    "### Connect to the device"
   ]
  },
  {
   "cell_type": "code",
   "execution_count": 33,
   "metadata": {
    "tags": []
   },
   "outputs": [],
   "source": [
    "m =  manager.connect(\n",
    "                    host=settings[\"host\"], \n",
    "                    port=settings[\"netconf_port\"], \n",
    "                    username=settings[\"username\"], \n",
    "                    password=settings[\"password\"], \n",
    "                    hostkey_verify=False, \n",
    "                    device_params={'name':'iosxe'}\n",
    "                    )"
   ]
  },
  {
   "cell_type": "markdown",
   "metadata": {},
   "source": [
    "### Get capabilitys"
   ]
  },
  {
   "cell_type": "code",
   "execution_count": 20,
   "metadata": {
    "tags": [
     "outputPrepend"
    ]
   },
   "outputs": [
    {
     "output_type": "stream",
     "name": "stdout",
     "text": "04',\n 'urn:ietf:params:xml:ns:yang:ietf-netconf-notifications?module=ietf-netconf-notifications&revision=2012-02-06',\n 'urn:ietf:params:xml:ns:yang:ietf-ospf?module=ietf-ospf&revision=2015-03-09&features=ttl-security,te-rid,router-id,remote-lfa,prefix-suppression,ospfv3-authentication-ipsec,nsr,node-flag,multi-topology,multi-area-adj,mtu-ignore,max-lsa,max-ecmp,lls,lfa,ldp-igp-sync,ldp-igp-autoconfig,interface-inheritance,instance-inheritance,graceful-restart,fast-reroute,demand-circuit,bfd,auto-cost,area-inheritance,admin-control&deviations=cisco-xe-ietf-ospf-deviation',\n 'urn:ietf:params:xml:ns:yang:ietf-restconf-monitoring?module=ietf-restconf-monitoring&revision=2017-01-26',\n 'urn:ietf:params:xml:ns:yang:ietf-routing?module=ietf-routing&revision=2015-05-25&features=router-id,multiple-ribs&deviations=cisco-xe-ietf-routing-deviation',\n 'urn:ietf:params:xml:ns:yang:ietf-yang-library?module=ietf-yang-library&revision=2016-06-21',\n 'urn:ietf:params:xml:ns:yang:ietf-yang-push?module=ietf-yang-push&revision=2016-10-28&features=on-change&deviations=cisco-xe-ietf-yang-push-deviation',\n 'urn:ietf:params:xml:ns:yang:ietf-yang-smiv2?module=ietf-yang-smiv2&revision=2012-06-22',\n 'urn:ietf:params:xml:ns:yang:ietf-yang-types?module=ietf-yang-types&revision=2013-07-15',\n 'urn:ietf:params:xml:ns:yang:nvo?module=nvo&revision=2015-06-02&deviations=nvo-devs',\n 'urn:ietf:params:xml:ns:yang:policy-attr?module=policy-attr&revision=2015-04-27',\n 'urn:ietf:params:xml:ns:yang:smiv2:ATM-FORUM-TC-MIB?module=ATM-FORUM-TC-MIB',\n 'urn:ietf:params:xml:ns:yang:smiv2:ATM-MIB?module=ATM-MIB&revision=1998-10-19',\n 'urn:ietf:params:xml:ns:yang:smiv2:ATM-TC-MIB?module=ATM-TC-MIB&revision=1998-10-19',\n 'urn:ietf:params:xml:ns:yang:smiv2:BGP4-MIB?module=BGP4-MIB&revision=1994-05-05',\n 'urn:ietf:params:xml:ns:yang:smiv2:BRIDGE-MIB?module=BRIDGE-MIB&revision=2005-09-19',\n 'urn:ietf:params:xml:ns:yang:smiv2:CISCO-AAA-SERVER-MIB?module=CISCO-AAA-SERVER-MIB&revision=2003-11-17',\n 'urn:ietf:params:xml:ns:yang:smiv2:CISCO-AAA-SESSION-MIB?module=CISCO-AAA-SESSION-MIB&revision=2006-03-21',\n 'urn:ietf:params:xml:ns:yang:smiv2:CISCO-AAL5-MIB?module=CISCO-AAL5-MIB&revision=2003-09-22',\n 'urn:ietf:params:xml:ns:yang:smiv2:CISCO-ATM-EXT-MIB?module=CISCO-ATM-EXT-MIB&revision=2003-01-06',\n 'urn:ietf:params:xml:ns:yang:smiv2:CISCO-ATM-PVCTRAP-EXTN-MIB?module=CISCO-ATM-PVCTRAP-EXTN-MIB&revision=2003-01-20',\n 'urn:ietf:params:xml:ns:yang:smiv2:CISCO-ATM-QOS-MIB?module=CISCO-ATM-QOS-MIB&revision=2002-06-10',\n 'urn:ietf:params:xml:ns:yang:smiv2:CISCO-BGP-POLICY-ACCOUNTING-MIB?module=CISCO-BGP-POLICY-ACCOUNTING-MIB&revision=2002-07-26',\n 'urn:ietf:params:xml:ns:yang:smiv2:CISCO-BGP4-MIB?module=CISCO-BGP4-MIB&revision=2010-09-30',\n 'urn:ietf:params:xml:ns:yang:smiv2:CISCO-BULK-FILE-MIB?module=CISCO-BULK-FILE-MIB&revision=2002-06-10',\n 'urn:ietf:params:xml:ns:yang:smiv2:CISCO-CBP-TARGET-MIB?module=CISCO-CBP-TARGET-MIB&revision=2006-05-24',\n 'urn:ietf:params:xml:ns:yang:smiv2:CISCO-CBP-TARGET-TC-MIB?module=CISCO-CBP-TARGET-TC-MIB&revision=2006-03-24',\n 'urn:ietf:params:xml:ns:yang:smiv2:CISCO-CBP-TC-MIB?module=CISCO-CBP-TC-MIB&revision=2008-06-24',\n 'urn:ietf:params:xml:ns:yang:smiv2:CISCO-CDP-MIB?module=CISCO-CDP-MIB&revision=2005-03-21',\n 'urn:ietf:params:xml:ns:yang:smiv2:CISCO-CEF-MIB?module=CISCO-CEF-MIB&revision=2006-01-30',\n 'urn:ietf:params:xml:ns:yang:smiv2:CISCO-CEF-TC?module=CISCO-CEF-TC&revision=2005-09-30',\n 'urn:ietf:params:xml:ns:yang:smiv2:CISCO-CONFIG-COPY-MIB?module=CISCO-CONFIG-COPY-MIB&revision=2005-04-06',\n 'urn:ietf:params:xml:ns:yang:smiv2:CISCO-CONFIG-MAN-MIB?module=CISCO-CONFIG-MAN-MIB&revision=2007-04-27',\n 'urn:ietf:params:xml:ns:yang:smiv2:CISCO-CONTEXT-MAPPING-MIB?module=CISCO-CONTEXT-MAPPING-MIB&revision=2008-11-22',\n 'urn:ietf:params:xml:ns:yang:smiv2:CISCO-DATA-COLLECTION-MIB?module=CISCO-DATA-COLLECTION-MIB&revision=2002-10-30',\n 'urn:ietf:params:xml:ns:yang:smiv2:CISCO-DIAL-CONTROL-MIB?module=CISCO-DIAL-CONTROL-MIB&revision=2005-05-26',\n 'urn:ietf:params:xml:ns:yang:smiv2:CISCO-DOT3-OAM-MIB?module=CISCO-DOT3-OAM-MIB&revision=2006-05-31',\n 'urn:ietf:params:xml:ns:yang:smiv2:CISCO-DYNAMIC-TEMPLATE-MIB?module=CISCO-DYNAMIC-TEMPLATE-MIB&revision=2007-09-06',\n 'urn:ietf:params:xml:ns:yang:smiv2:CISCO-DYNAMIC-TEMPLATE-TC-MIB?module=CISCO-DYNAMIC-TEMPLATE-TC-MIB&revision=2012-01-27',\n 'urn:ietf:params:xml:ns:yang:smiv2:CISCO-EIGRP-MIB?module=CISCO-EIGRP-MIB&revision=2004-11-16',\n 'urn:ietf:params:xml:ns:yang:smiv2:CISCO-EMBEDDED-EVENT-MGR-MIB?module=CISCO-EMBEDDED-EVENT-MGR-MIB&revision=2006-11-07',\n 'urn:ietf:params:xml:ns:yang:smiv2:CISCO-ENHANCED-MEMPOOL-MIB?module=CISCO-ENHANCED-MEMPOOL-MIB&revision=2008-12-05',\n 'urn:ietf:params:xml:ns:yang:smiv2:CISCO-ENTITY-ALARM-MIB?module=CISCO-ENTITY-ALARM-MIB&revision=1999-07-06',\n 'urn:ietf:params:xml:ns:yang:smiv2:CISCO-ENTITY-EXT-MIB?module=CISCO-ENTITY-EXT-MIB&revision=2008-11-24',\n 'urn:ietf:params:xml:ns:yang:smiv2:CISCO-ENTITY-FRU-CONTROL-MIB?module=CISCO-ENTITY-FRU-CONTROL-MIB&revision=2013-08-19',\n 'urn:ietf:params:xml:ns:yang:smiv2:CISCO-ENTITY-QFP-MIB?module=CISCO-ENTITY-QFP-MIB&revision=2014-06-18',\n 'urn:ietf:params:xml:ns:yang:smiv2:CISCO-ENTITY-SENSOR-MIB?module=CISCO-ENTITY-SENSOR-MIB&revision=2015-01-15',\n 'urn:ietf:params:xml:ns:yang:smiv2:CISCO-ENTITY-VENDORTYPE-OID-MIB?module=CISCO-ENTITY-VENDORTYPE-OID-MIB&revision=2014-12-09',\n 'urn:ietf:params:xml:ns:yang:smiv2:CISCO-ETHER-CFM-MIB?module=CISCO-ETHER-CFM-MIB&revision=2004-12-28',\n 'urn:ietf:params:xml:ns:yang:smiv2:CISCO-ETHERLIKE-EXT-MIB?module=CISCO-ETHERLIKE-EXT-MIB&revision=2010-06-04',\n 'urn:ietf:params:xml:ns:yang:smiv2:CISCO-FIREWALL-TC?module=CISCO-FIREWALL-TC&revision=2006-03-03',\n 'urn:ietf:params:xml:ns:yang:smiv2:CISCO-FLASH-MIB?module=CISCO-FLASH-MIB&revision=2013-08-06',\n 'urn:ietf:params:xml:ns:yang:smiv2:CISCO-FTP-CLIENT-MIB?module=CISCO-FTP-CLIENT-MIB&revision=2006-03-31',\n 'urn:ietf:params:xml:ns:yang:smiv2:CISCO-HSRP-EXT-MIB?module=CISCO-HSRP-EXT-MIB&revision=2010-09-02',\n 'urn:ietf:params:xml:ns:yang:smiv2:CISCO-HSRP-MIB?module=CISCO-HSRP-MIB&revision=2010-09-06',\n 'urn:ietf:params:xml:ns:yang:smiv2:CISCO-IETF-ATM2-PVCTRAP-MIB?module=CISCO-IETF-ATM2-PVCTRAP-MIB&revision=1998-02-03',\n 'urn:ietf:params:xml:ns:yang:smiv2:CISCO-IETF-ATM2-PVCTRAP-MIB-EXTN?module=CISCO-IETF-ATM2-PVCTRAP-MIB-EXTN&revision=2000-07-11',\n 'urn:ietf:params:xml:ns:yang:smiv2:CISCO-IETF-BFD-MIB?module=CISCO-IETF-BFD-MIB&revision=2011-04-16',\n 'urn:ietf:params:xml:ns:yang:smiv2:CISCO-IETF-FRR-MIB?module=CISCO-IETF-FRR-MIB&revision=2008-04-29',\n 'urn:ietf:params:xml:ns:yang:smiv2:CISCO-IETF-ISIS-MIB?module=CISCO-IETF-ISIS-MIB&revision=2005-08-16',\n 'urn:ietf:params:xml:ns:yang:smiv2:CISCO-IETF-MPLS-ID-STD-03-MIB?module=CISCO-IETF-MPLS-ID-STD-03-MIB&revision=2012-06-07',\n 'urn:ietf:params:xml:ns:yang:smiv2:CISCO-IETF-MPLS-TE-EXT-STD-03-MIB?module=CISCO-IETF-MPLS-TE-EXT-STD-03-MIB&revision=2012-06-06',\n 'urn:ietf:params:xml:ns:yang:smiv2:CISCO-IETF-PW-ATM-MIB?module=CISCO-IETF-PW-ATM-MIB&revision=2005-04-19',\n 'urn:ietf:params:xml:ns:yang:smiv2:CISCO-IETF-PW-ENET-MIB?module=CISCO-IETF-PW-ENET-MIB&revision=2002-09-22',\n 'urn:ietf:params:xml:ns:yang:smiv2:CISCO-IETF-PW-MIB?module=CISCO-IETF-PW-MIB&revision=2004-03-17',\n 'urn:ietf:params:xml:ns:yang:smiv2:CISCO-IETF-PW-MPLS-MIB?module=CISCO-IETF-PW-MPLS-MIB&revision=2003-02-26',\n 'urn:ietf:params:xml:ns:yang:smiv2:CISCO-IETF-PW-TC-MIB?module=CISCO-IETF-PW-TC-MIB&revision=2006-07-21',\n 'urn:ietf:params:xml:ns:yang:smiv2:CISCO-IETF-PW-TDM-MIB?module=CISCO-IETF-PW-TDM-MIB&revision=2006-07-21',\n 'urn:ietf:params:xml:ns:yang:smiv2:CISCO-IF-EXTENSION-MIB?module=CISCO-IF-EXTENSION-MIB&revision=2013-03-13',\n 'urn:ietf:params:xml:ns:yang:smiv2:CISCO-IGMP-FILTER-MIB?module=CISCO-IGMP-FILTER-MIB&revision=2005-11-29',\n 'urn:ietf:params:xml:ns:yang:smiv2:CISCO-IMAGE-LICENSE-MGMT-MIB?module=CISCO-IMAGE-LICENSE-MGMT-MIB&revision=2007-10-16',\n 'urn:ietf:params:xml:ns:yang:smiv2:CISCO-IMAGE-MIB?module=CISCO-IMAGE-MIB&revision=1995-08-15',\n 'urn:ietf:params:xml:ns:yang:smiv2:CISCO-IP-LOCAL-POOL-MIB?module=CISCO-IP-LOCAL-POOL-MIB&revision=2007-11-12',\n 'urn:ietf:params:xml:ns:yang:smiv2:CISCO-IP-TAP-MIB?module=CISCO-IP-TAP-MIB&revision=2004-03-11',\n 'urn:ietf:params:xml:ns:yang:smiv2:CISCO-IP-URPF-MIB?module=CISCO-IP-URPF-MIB&revision=2011-12-29',\n 'urn:ietf:params:xml:ns:yang:smiv2:CISCO-IPMROUTE-MIB?module=CISCO-IPMROUTE-MIB&revision=2005-03-07',\n 'urn:ietf:params:xml:ns:yang:smiv2:CISCO-IPSEC-FLOW-MONITOR-MIB?module=CISCO-IPSEC-FLOW-MONITOR-MIB&revision=2007-10-24',\n 'urn:ietf:params:xml:ns:yang:smiv2:CISCO-IPSEC-MIB?module=CISCO-IPSEC-MIB&revision=2000-08-07',\n 'urn:ietf:params:xml:ns:yang:smiv2:CISCO-IPSEC-POLICY-MAP-MIB?module=CISCO-IPSEC-POLICY-MAP-MIB&revision=2000-08-17',\n 'urn:ietf:params:xml:ns:yang:smiv2:CISCO-IPSLA-AUTOMEASURE-MIB?module=CISCO-IPSLA-AUTOMEASURE-MIB&revision=2007-06-13',\n 'urn:ietf:params:xml:ns:yang:smiv2:CISCO-IPSLA-ECHO-MIB?module=CISCO-IPSLA-ECHO-MIB&revision=2007-08-16',\n 'urn:ietf:params:xml:ns:yang:smiv2:CISCO-IPSLA-JITTER-MIB?module=CISCO-IPSLA-JITTER-MIB&revision=2007-07-24',\n 'urn:ietf:params:xml:ns:yang:smiv2:CISCO-IPSLA-TC-MIB?module=CISCO-IPSLA-TC-MIB&revision=2007-03-23',\n 'urn:ietf:params:xml:ns:yang:smiv2:CISCO-LICENSE-MGMT-MIB?module=CISCO-LICENSE-MGMT-MIB&revision=2012-04-19',\n 'urn:ietf:params:xml:ns:yang:smiv2:CISCO-MEDIA-GATEWAY-MIB?module=CISCO-MEDIA-GATEWAY-MIB&revision=2009-02-25',\n 'urn:ietf:params:xml:ns:yang:smiv2:CISCO-MPLS-LSR-EXT-STD-MIB?module=CISCO-MPLS-LSR-EXT-STD-MIB&revision=2012-04-30',\n 'urn:ietf:params:xml:ns:yang:smiv2:CISCO-MPLS-TC-EXT-STD-MIB?module=CISCO-MPLS-TC-EXT-STD-MIB&revision=2012-02-22',\n 'urn:ietf:params:xml:ns:yang:smiv2:CISCO-NBAR-PROTOCOL-DISCOVERY-MIB?module=CISCO-NBAR-PROTOCOL-DISCOVERY-MIB&revision=2002-08-16',\n 'urn:ietf:params:xml:ns:yang:smiv2:CISCO-NETSYNC-MIB?module=CISCO-NETSYNC-MIB&revision=2010-10-15',\n 'urn:ietf:params:xml:ns:yang:smiv2:CISCO-NTP-MIB?module=CISCO-NTP-MIB&revision=2006-07-31',\n 'urn:ietf:params:xml:ns:yang:smiv2:CISCO-OSPF-MIB?module=CISCO-OSPF-MIB&revision=2003-07-18',\n 'urn:ietf:params:xml:ns:yang:smiv2:CISCO-OSPF-TRAP-MIB?module=CISCO-OSPF-TRAP-MIB&revision=2003-07-18',\n 'urn:ietf:params:xml:ns:yang:smiv2:CISCO-PIM-MIB?module=CISCO-PIM-MIB&revision=2000-11-02',\n 'urn:ietf:params:xml:ns:yang:smiv2:CISCO-PING-MIB?module=CISCO-PING-MIB&revision=2001-08-28',\n 'urn:ietf:params:xml:ns:yang:smiv2:CISCO-PROCESS-MIB?module=CISCO-PROCESS-MIB&revision=2011-06-23',\n 'urn:ietf:params:xml:ns:yang:smiv2:CISCO-PRODUCTS-MIB?module=CISCO-PRODUCTS-MIB&revision=2014-11-06',\n 'urn:ietf:params:xml:ns:yang:smiv2:CISCO-PTP-MIB?module=CISCO-PTP-MIB&revision=2011-01-28',\n 'urn:ietf:params:xml:ns:yang:smiv2:CISCO-QOS-PIB-MIB?module=CISCO-QOS-PIB-MIB&revision=2007-08-29',\n 'urn:ietf:params:xml:ns:yang:smiv2:CISCO-RADIUS-EXT-MIB?module=CISCO-RADIUS-EXT-MIB&revision=2010-05-25',\n 'urn:ietf:params:xml:ns:yang:smiv2:CISCO-RF-MIB?module=CISCO-RF-MIB&revision=2005-09-01',\n 'urn:ietf:params:xml:ns:yang:smiv2:CISCO-RTTMON-MIB?module=CISCO-RTTMON-MIB&revision=2012-08-16',\n 'urn:ietf:params:xml:ns:yang:smiv2:CISCO-RTTMON-TC-MIB?module=CISCO-RTTMON-TC-MIB&revision=2012-05-25',\n 'urn:ietf:params:xml:ns:yang:smiv2:CISCO-SESS-BORDER-CTRLR-CALL-STATS-MIB?module=CISCO-SESS-BORDER-CTRLR-CALL-STATS-MIB&revision=2010-09-03',\n 'urn:ietf:params:xml:ns:yang:smiv2:CISCO-SESS-BORDER-CTRLR-STATS-MIB?module=CISCO-SESS-BORDER-CTRLR-STATS-MIB&revision=2010-09-15',\n 'urn:ietf:params:xml:ns:yang:smiv2:CISCO-SIP-UA-MIB?module=CISCO-SIP-UA-MIB&revision=2004-02-19',\n 'urn:ietf:params:xml:ns:yang:smiv2:CISCO-SMI?module=CISCO-SMI&revision=2012-08-29',\n 'urn:ietf:params:xml:ns:yang:smiv2:CISCO-SONET-MIB?module=CISCO-SONET-MIB&revision=2003-03-07',\n 'urn:ietf:params:xml:ns:yang:smiv2:CISCO-ST-TC?module=CISCO-ST-TC&revision=2012-08-08',\n 'urn:ietf:params:xml:ns:yang:smiv2:CISCO-STP-EXTENSIONS-MIB?module=CISCO-STP-EXTENSIONS-MIB&revision=2013-03-07',\n 'urn:ietf:params:xml:ns:yang:smiv2:CISCO-SUBSCRIBER-IDENTITY-TC-MIB?module=CISCO-SUBSCRIBER-IDENTITY-TC-MIB&revision=2011-12-23',\n 'urn:ietf:params:xml:ns:yang:smiv2:CISCO-SUBSCRIBER-SESSION-MIB?module=CISCO-SUBSCRIBER-SESSION-MIB&revision=2012-08-08',\n 'urn:ietf:params:xml:ns:yang:smiv2:CISCO-SUBSCRIBER-SESSION-TC-MIB?module=CISCO-SUBSCRIBER-SESSION-TC-MIB&revision=2012-01-27',\n 'urn:ietf:params:xml:ns:yang:smiv2:CISCO-SYSLOG-MIB?module=CISCO-SYSLOG-MIB&revision=2005-12-03',\n 'urn:ietf:params:xml:ns:yang:smiv2:CISCO-TAP2-MIB?module=CISCO-TAP2-MIB&revision=2009-11-06',\n 'urn:ietf:params:xml:ns:yang:smiv2:CISCO-TC?module=CISCO-TC&revision=2011-11-11',\n 'urn:ietf:params:xml:ns:yang:smiv2:CISCO-UBE-MIB?module=CISCO-UBE-MIB&revision=2010-11-29',\n 'urn:ietf:params:xml:ns:yang:smiv2:CISCO-UNIFIED-FIREWALL-MIB?module=CISCO-UNIFIED-FIREWALL-MIB&revision=2005-09-22',\n 'urn:ietf:params:xml:ns:yang:smiv2:CISCO-VLAN-IFTABLE-RELATIONSHIP-MIB?module=CISCO-VLAN-IFTABLE-RELATIONSHIP-MIB&revision=2013-07-15',\n 'urn:ietf:params:xml:ns:yang:smiv2:CISCO-VLAN-MEMBERSHIP-MIB?module=CISCO-VLAN-MEMBERSHIP-MIB&revision=2007-12-14',\n 'urn:ietf:params:xml:ns:yang:smiv2:CISCO-VOICE-COMMON-DIAL-CONTROL-MIB?module=CISCO-VOICE-COMMON-DIAL-CONTROL-MIB&revision=2010-06-30',\n 'urn:ietf:params:xml:ns:yang:smiv2:CISCO-VOICE-DIAL-CONTROL-MIB?module=CISCO-VOICE-DIAL-CONTROL-MIB&revision=2012-05-15',\n 'urn:ietf:params:xml:ns:yang:smiv2:CISCO-VOICE-DNIS-MIB?module=CISCO-VOICE-DNIS-MIB&revision=2002-05-01',\n 'urn:ietf:params:xml:ns:yang:smiv2:CISCO-VPDN-MGMT-MIB?module=CISCO-VPDN-MGMT-MIB&revision=2009-06-16',\n 'urn:ietf:params:xml:ns:yang:smiv2:CISCO-VTP-MIB?module=CISCO-VTP-MIB&revision=2013-10-14',\n 'urn:ietf:params:xml:ns:yang:smiv2:DIAL-CONTROL-MIB?module=DIAL-CONTROL-MIB&revision=1996-09-23',\n 'urn:ietf:params:xml:ns:yang:smiv2:DIFFSERV-DSCP-TC?module=DIFFSERV-DSCP-TC&revision=2002-05-09',\n 'urn:ietf:params:xml:ns:yang:smiv2:DIFFSERV-MIB?module=DIFFSERV-MIB&revision=2002-02-07',\n 'urn:ietf:params:xml:ns:yang:smiv2:DISMAN-EVENT-MIB?module=DISMAN-EVENT-MIB&revision=2000-10-16',\n 'urn:ietf:params:xml:ns:yang:smiv2:DISMAN-EXPRESSION-MIB?module=DISMAN-EXPRESSION-MIB&revision=2000-10-16',\n 'urn:ietf:params:xml:ns:yang:smiv2:DRAFT-MSDP-MIB?module=DRAFT-MSDP-MIB&revision=1999-12-16',\n 'urn:ietf:params:xml:ns:yang:smiv2:DS1-MIB?module=DS1-MIB&revision=1998-08-01',\n 'urn:ietf:params:xml:ns:yang:smiv2:DS3-MIB?module=DS3-MIB&revision=1998-08-01',\n 'urn:ietf:params:xml:ns:yang:smiv2:ENTITY-MIB?module=ENTITY-MIB&revision=2005-08-10',\n 'urn:ietf:params:xml:ns:yang:smiv2:ENTITY-SENSOR-MIB?module=ENTITY-SENSOR-MIB&revision=2002-12-16',\n 'urn:ietf:params:xml:ns:yang:smiv2:ENTITY-STATE-MIB?module=ENTITY-STATE-MIB&revision=2005-11-22',\n 'urn:ietf:params:xml:ns:yang:smiv2:ENTITY-STATE-TC-MIB?module=ENTITY-STATE-TC-MIB&revision=2005-11-22',\n 'urn:ietf:params:xml:ns:yang:smiv2:ETHER-WIS?module=ETHER-WIS&revision=2003-09-19',\n 'urn:ietf:params:xml:ns:yang:smiv2:EXPRESSION-MIB?module=EXPRESSION-MIB&revision=2005-11-24',\n 'urn:ietf:params:xml:ns:yang:smiv2:EtherLike-MIB?module=EtherLike-MIB&revision=2003-09-19',\n 'urn:ietf:params:xml:ns:yang:smiv2:FRAME-RELAY-DTE-MIB?module=FRAME-RELAY-DTE-MIB&revision=1997-05-01',\n 'urn:ietf:params:xml:ns:yang:smiv2:HCNUM-TC?module=HCNUM-TC&revision=2000-06-08',\n 'urn:ietf:params:xml:ns:yang:smiv2:IANA-ADDRESS-FAMILY-NUMBERS-MIB?module=IANA-ADDRESS-FAMILY-NUMBERS-MIB&revision=2000-09-08',\n 'urn:ietf:params:xml:ns:yang:smiv2:IANA-RTPROTO-MIB?module=IANA-RTPROTO-MIB&revision=2000-09-26',\n 'urn:ietf:params:xml:ns:yang:smiv2:IANAifType-MIB?module=IANAifType-MIB&revision=2006-03-31',\n 'urn:ietf:params:xml:ns:yang:smiv2:IEEE8021-TC-MIB?module=IEEE8021-TC-MIB&revision=2008-10-15',\n 'urn:ietf:params:xml:ns:yang:smiv2:IF-MIB?module=IF-MIB&revision=2000-06-14',\n 'urn:ietf:params:xml:ns:yang:smiv2:IGMP-STD-MIB?module=IGMP-STD-MIB&revision=2000-09-28',\n 'urn:ietf:params:xml:ns:yang:smiv2:INET-ADDRESS-MIB?module=INET-ADDRESS-MIB&revision=2005-02-04',\n 'urn:ietf:params:xml:ns:yang:smiv2:INT-SERV-MIB?module=INT-SERV-MIB&revision=1997-10-03',\n 'urn:ietf:params:xml:ns:yang:smiv2:INTEGRATED-SERVICES-MIB?module=INTEGRATED-SERVICES-MIB&revision=1995-11-03',\n 'urn:ietf:params:xml:ns:yang:smiv2:IP-FORWARD-MIB?module=IP-FORWARD-MIB&revision=1996-09-19',\n 'urn:ietf:params:xml:ns:yang:smiv2:IP-MIB?module=IP-MIB&revision=2006-02-02',\n 'urn:ietf:params:xml:ns:yang:smiv2:IPMROUTE-STD-MIB?module=IPMROUTE-STD-MIB&revision=2000-09-22',\n 'urn:ietf:params:xml:ns:yang:smiv2:IPV6-FLOW-LABEL-MIB?module=IPV6-FLOW-LABEL-MIB&revision=2003-08-28',\n 'urn:ietf:params:xml:ns:yang:smiv2:LLDP-MIB?module=LLDP-MIB&revision=2005-05-06',\n 'urn:ietf:params:xml:ns:yang:smiv2:MPLS-L3VPN-STD-MIB?module=MPLS-L3VPN-STD-MIB&revision=2006-01-23',\n 'urn:ietf:params:xml:ns:yang:smiv2:MPLS-LDP-GENERIC-STD-MIB?module=MPLS-LDP-GENERIC-STD-MIB&revision=2004-06-03',\n 'urn:ietf:params:xml:ns:yang:smiv2:MPLS-LDP-STD-MIB?module=MPLS-LDP-STD-MIB&revision=2004-06-03',\n 'urn:ietf:params:xml:ns:yang:smiv2:MPLS-LSR-STD-MIB?module=MPLS-LSR-STD-MIB&revision=2004-06-03',\n 'urn:ietf:params:xml:ns:yang:smiv2:MPLS-TC-MIB?module=MPLS-TC-MIB&revision=2001-01-04',\n 'urn:ietf:params:xml:ns:yang:smiv2:MPLS-TC-STD-MIB?module=MPLS-TC-STD-MIB&revision=2004-06-03',\n 'urn:ietf:params:xml:ns:yang:smiv2:MPLS-TE-STD-MIB?module=MPLS-TE-STD-MIB&revision=2004-06-03',\n 'urn:ietf:params:xml:ns:yang:smiv2:MPLS-VPN-MIB?module=MPLS-VPN-MIB&revision=2001-10-15',\n 'urn:ietf:params:xml:ns:yang:smiv2:NHRP-MIB?module=NHRP-MIB&revision=1999-08-26',\n 'urn:ietf:params:xml:ns:yang:smiv2:NOTIFICATION-LOG-MIB?module=NOTIFICATION-LOG-MIB&revision=2000-11-27',\n 'urn:ietf:params:xml:ns:yang:smiv2:OSPF-MIB?module=OSPF-MIB&revision=2006-11-10',\n 'urn:ietf:params:xml:ns:yang:smiv2:OSPF-TRAP-MIB?module=OSPF-TRAP-MIB&revision=2006-11-10',\n 'urn:ietf:params:xml:ns:yang:smiv2:P-BRIDGE-MIB?module=P-BRIDGE-MIB&revision=2006-01-09',\n 'urn:ietf:params:xml:ns:yang:smiv2:PIM-MIB?module=PIM-MIB&revision=2000-09-28',\n 'urn:ietf:params:xml:ns:yang:smiv2:PerfHist-TC-MIB?module=PerfHist-TC-MIB&revision=1998-11-07',\n 'urn:ietf:params:xml:ns:yang:smiv2:Q-BRIDGE-MIB?module=Q-BRIDGE-MIB&revision=2006-01-09',\n 'urn:ietf:params:xml:ns:yang:smiv2:RFC-1212?module=RFC-1212',\n 'urn:ietf:params:xml:ns:yang:smiv2:RFC-1215?module=RFC-1215',\n 'urn:ietf:params:xml:ns:yang:smiv2:RFC1155-SMI?module=RFC1155-SMI',\n 'urn:ietf:params:xml:ns:yang:smiv2:RFC1213-MIB?module=RFC1213-MIB',\n 'urn:ietf:params:xml:ns:yang:smiv2:RFC1315-MIB?module=RFC1315-MIB',\n 'urn:ietf:params:xml:ns:yang:smiv2:RMON-MIB?module=RMON-MIB&revision=2000-05-11',\n 'urn:ietf:params:xml:ns:yang:smiv2:RMON2-MIB?module=RMON2-MIB&revision=1996-05-27',\n 'urn:ietf:params:xml:ns:yang:smiv2:RSVP-MIB?module=RSVP-MIB&revision=1998-08-25',\n 'urn:ietf:params:xml:ns:yang:smiv2:SNMP-FRAMEWORK-MIB?module=SNMP-FRAMEWORK-MIB&revision=2002-10-14',\n 'urn:ietf:params:xml:ns:yang:smiv2:SNMP-PROXY-MIB?module=SNMP-PROXY-MIB&revision=2002-10-14',\n 'urn:ietf:params:xml:ns:yang:smiv2:SNMP-TARGET-MIB?module=SNMP-TARGET-MIB&revision=1998-08-04',\n 'urn:ietf:params:xml:ns:yang:smiv2:SNMPv2-MIB?module=SNMPv2-MIB&revision=2002-10-16',\n 'urn:ietf:params:xml:ns:yang:smiv2:SNMPv2-TC?module=SNMPv2-TC',\n 'urn:ietf:params:xml:ns:yang:smiv2:SONET-MIB?module=SONET-MIB&revision=2003-08-11',\n 'urn:ietf:params:xml:ns:yang:smiv2:TCP-MIB?module=TCP-MIB&revision=2005-02-18',\n 'urn:ietf:params:xml:ns:yang:smiv2:TOKEN-RING-RMON-MIB?module=TOKEN-RING-RMON-MIB',\n 'urn:ietf:params:xml:ns:yang:smiv2:TOKENRING-MIB?module=TOKENRING-MIB&revision=1994-10-23',\n 'urn:ietf:params:xml:ns:yang:smiv2:TUNNEL-MIB?module=TUNNEL-MIB&revision=2005-05-16',\n 'urn:ietf:params:xml:ns:yang:smiv2:UDP-MIB?module=UDP-MIB&revision=2005-05-20',\n 'urn:ietf:params:xml:ns:yang:smiv2:VPN-TC-STD-MIB?module=VPN-TC-STD-MIB&revision=2005-11-15',\n 'urn:ietf:params:xml:ns:netconf:base:1.0?module=ietf-netconf&revision=2011-06-01',\n 'urn:ietf:params:xml:ns:yang:ietf-netconf-with-defaults?module=ietf-netconf-with-defaults&revision=2011-06-01',\n '\\n        urn:ietf:params:netconf:capability:notification:1.1\\n      ']\n"
    }
   ],
   "source": [
    "pp([x for x in m.server_capabilities])"
   ]
  },
  {
   "cell_type": "markdown",
   "metadata": {},
   "source": [
    "### Get configuration details"
   ]
  },
  {
   "cell_type": "code",
   "execution_count": 41,
   "metadata": {
    "tags": []
   },
   "outputs": [
    {
     "output_type": "stream",
     "name": "stdout",
     "text": "<?xml version=\"1.0\" ?>\n<rpc-reply xmlns=\"urn:ietf:params:xml:ns:netconf:base:1.0\" xmlns:nc=\"urn:ietf:params:xml:ns:netconf:base:1.0\" message-id=\"urn:uuid:aaf7c025-500e-44d4-a28d-3f4b8942b2c8\">\n\t<data>\n\t\t<interfaces xmlns=\"urn:ietf:params:xml:ns:yang:ietf-interfaces\">\n\t\t\t<interface>\n\t\t\t\t<name>GigabitEthernet1</name>\n\t\t\t\t<description>MANAGEMENT INTERFACE - DON'T TOUCH ME</description>\n\t\t\t\t<type xmlns:ianaift=\"urn:ietf:params:xml:ns:yang:iana-if-type\">ianaift:ethernetCsmacd</type>\n\t\t\t\t<enabled>true</enabled>\n\t\t\t\t<ipv4 xmlns=\"urn:ietf:params:xml:ns:yang:ietf-ip\">\n\t\t\t\t\t<address>\n\t\t\t\t\t\t<ip>10.10.20.48</ip>\n\t\t\t\t\t\t<netmask>255.255.255.0</netmask>\n\t\t\t\t\t</address>\n\t\t\t\t</ipv4>\n\t\t\t\t<ipv6 xmlns=\"urn:ietf:params:xml:ns:yang:ietf-ip\"/>\n\t\t\t</interface>\n\t\t\t<interface>\n\t\t\t\t<name>GigabitEthernet2</name>\n\t\t\t\t<description>Configured with NETCONF 8/23/2020</description>\n\t\t\t\t<type xmlns:ianaift=\"urn:ietf:params:xml:ns:yang:iana-if-type\">ianaift:ethernetCsmacd</type>\n\t\t\t\t<enabled>true</enabled>\n\t\t\t\t<ipv4 xmlns=\"urn:ietf:params:xml:ns:yang:ietf-ip\">\n\t\t\t\t\t<address>\n\t\t\t\t\t\t<ip>192.168.1.1</ip>\n\t\t\t\t\t\t<netmask>255.255.255.0</netmask>\n\t\t\t\t\t</address>\n\t\t\t\t</ipv4>\n\t\t\t\t<ipv6 xmlns=\"urn:ietf:params:xml:ns:yang:ietf-ip\"/>\n\t\t\t</interface>\n\t\t\t<interface>\n\t\t\t\t<name>GigabitEthernet3</name>\n\t\t\t\t<description>Configured with NETCONF 8/23/2020</description>\n\t\t\t\t<type xmlns:ianaift=\"urn:ietf:params:xml:ns:yang:iana-if-type\">ianaift:ethernetCsmacd</type>\n\t\t\t\t<enabled>true</enabled>\n\t\t\t\t<ipv4 xmlns=\"urn:ietf:params:xml:ns:yang:ietf-ip\">\n\t\t\t\t\t<address>\n\t\t\t\t\t\t<ip>192.169.1.1</ip>\n\t\t\t\t\t\t<netmask>255.255.255.0</netmask>\n\t\t\t\t\t</address>\n\t\t\t\t</ipv4>\n\t\t\t\t<ipv6 xmlns=\"urn:ietf:params:xml:ns:yang:ietf-ip\"/>\n\t\t\t</interface>\n\t\t\t<interface>\n\t\t\t\t<name>Loopback2</name>\n\t\t\t\t<description>Configured with NETCONF 8/23/2020</description>\n\t\t\t\t<type xmlns:ianaift=\"urn:ietf:params:xml:ns:yang:iana-if-type\">ianaift:softwareLoopback</type>\n\t\t\t\t<enabled>true</enabled>\n\t\t\t\t<ipv4 xmlns=\"urn:ietf:params:xml:ns:yang:ietf-ip\"/>\n\t\t\t\t<ipv6 xmlns=\"urn:ietf:params:xml:ns:yang:ietf-ip\"/>\n\t\t\t</interface>\n\t\t\t<interface>\n\t\t\t\t<name>Loopback3</name>\n\t\t\t\t<description>Configured with NETCONF 8/23/2020</description>\n\t\t\t\t<type xmlns:ianaift=\"urn:ietf:params:xml:ns:yang:iana-if-type\">ianaift:softwareLoopback</type>\n\t\t\t\t<enabled>true</enabled>\n\t\t\t\t<ipv4 xmlns=\"urn:ietf:params:xml:ns:yang:ietf-ip\"/>\n\t\t\t\t<ipv6 xmlns=\"urn:ietf:params:xml:ns:yang:ietf-ip\"/>\n\t\t\t</interface>\n\t\t\t<interface>\n\t\t\t\t<name>Loopback4</name>\n\t\t\t\t<description>Configured with NETCONF 8/23/2020</description>\n\t\t\t\t<type xmlns:ianaift=\"urn:ietf:params:xml:ns:yang:iana-if-type\">ianaift:softwareLoopback</type>\n\t\t\t\t<enabled>true</enabled>\n\t\t\t\t<ipv4 xmlns=\"urn:ietf:params:xml:ns:yang:ietf-ip\"/>\n\t\t\t\t<ipv6 xmlns=\"urn:ietf:params:xml:ns:yang:ietf-ip\"/>\n\t\t\t</interface>\n\t\t\t<interface>\n\t\t\t\t<name>Loopback1337</name>\n\t\t\t\t<description>Why would some1 use NET over REST?</description>\n\t\t\t\t<type xmlns:ianaift=\"urn:ietf:params:xml:ns:yang:iana-if-type\">ianaift:softwareLoopback</type>\n\t\t\t\t<enabled>true</enabled>\n\t\t\t\t<ipv4 xmlns=\"urn:ietf:params:xml:ns:yang:ietf-ip\"/>\n\t\t\t\t<ipv6 xmlns=\"urn:ietf:params:xml:ns:yang:ietf-ip\"/>\n\t\t\t</interface>\n\t\t\t<interface>\n\t\t\t\t<name>Loopback1338</name>\n\t\t\t\t<description>Why would some1 use NET over REST?</description>\n\t\t\t\t<type xmlns:ianaift=\"urn:ietf:params:xml:ns:yang:iana-if-type\">ianaift:softwareLoopback</type>\n\t\t\t\t<enabled>true</enabled>\n\t\t\t\t<ipv4 xmlns=\"urn:ietf:params:xml:ns:yang:ietf-ip\"/>\n\t\t\t\t<ipv6 xmlns=\"urn:ietf:params:xml:ns:yang:ietf-ip\"/>\n\t\t\t</interface>\n\t\t\t<interface>\n\t\t\t\t<name>Loopback3192</name>\n\t\t\t\t<description>Configured with NETCONF 8/23/2020</description>\n\t\t\t\t<type xmlns:ianaift=\"urn:ietf:params:xml:ns:yang:iana-if-type\">ianaift:softwareLoopback</type>\n\t\t\t\t<enabled>true</enabled>\n\t\t\t\t<ipv4 xmlns=\"urn:ietf:params:xml:ns:yang:ietf-ip\"/>\n\t\t\t\t<ipv6 xmlns=\"urn:ietf:params:xml:ns:yang:ietf-ip\"/>\n\t\t\t</interface>\n\t\t\t<interface>\n\t\t\t\t<name>Loopback9876</name>\n\t\t\t\t<description>Created w/ Python and ncclient, BOOP!</description>\n\t\t\t\t<type xmlns:ianaift=\"urn:ietf:params:xml:ns:yang:iana-if-type\">ianaift:softwareLoopback</type>\n\t\t\t\t<enabled>true</enabled>\n\t\t\t\t<ipv4 xmlns=\"urn:ietf:params:xml:ns:yang:ietf-ip\">\n\t\t\t\t\t<address>\n\t\t\t\t\t\t<ip>9.8.7.6</ip>\n\t\t\t\t\t\t<netmask>255.255.255.255</netmask>\n\t\t\t\t\t</address>\n\t\t\t\t</ipv4>\n\t\t\t\t<ipv6 xmlns=\"urn:ietf:params:xml:ns:yang:ietf-ip\"/>\n\t\t\t</interface>\n\t\t</interfaces>\n\t</data>\n</rpc-reply>\n\n"
    }
   ],
   "source": [
    "# Create an XML filter for targeted NETCONF queries\n",
    "# This filter get's all interfaces configuration\n",
    "netconf_filter = \"\"\"<filter>\n",
    "                        <interfaces xmlns=\"urn:ietf:params:xml:ns:yang:ietf-interfaces\">\n",
    "                            <interface></interface>\n",
    "                        </interfaces>\n",
    "                    </filter>\"\"\"\n",
    "netconf_reply = m.get_config(source = 'running', filter = netconf_filter)\n",
    "print(xml.dom.minidom.parseString(netconf_reply.xml).toprettyxml())"
   ]
  },
  {
   "cell_type": "markdown",
   "metadata": {},
   "source": [
    "### Add 10 loopbacks based on a template"
   ]
  },
  {
   "cell_type": "code",
   "execution_count": 40,
   "metadata": {
    "tags": []
   },
   "outputs": [
    {
     "output_type": "stream",
     "name": "stdout",
     "text": "<?xml version=\"1.0\" ?>\n<rpc-reply xmlns=\"urn:ietf:params:xml:ns:netconf:base:1.0\" xmlns:nc=\"urn:ietf:params:xml:ns:netconf:base:1.0\" message-id=\"urn:uuid:25dcd3f8-79cb-41f1-a10d-8cde0d5dd80c\">\n\t<ok/>\n</rpc-reply>\n\n<?xml version=\"1.0\" ?>\n<rpc-reply xmlns=\"urn:ietf:params:xml:ns:netconf:base:1.0\" xmlns:nc=\"urn:ietf:params:xml:ns:netconf:base:1.0\" message-id=\"urn:uuid:f5926760-1130-4fc3-a42e-77ee61730182\">\n\t<ok/>\n</rpc-reply>\n\n<?xml version=\"1.0\" ?>\n<rpc-reply xmlns=\"urn:ietf:params:xml:ns:netconf:base:1.0\" xmlns:nc=\"urn:ietf:params:xml:ns:netconf:base:1.0\" message-id=\"urn:uuid:a8479154-4ee3-457f-a336-efe629e92eb7\">\n\t<ok/>\n</rpc-reply>\n\n<?xml version=\"1.0\" ?>\n<rpc-reply xmlns=\"urn:ietf:params:xml:ns:netconf:base:1.0\" xmlns:nc=\"urn:ietf:params:xml:ns:netconf:base:1.0\" message-id=\"urn:uuid:9c87707c-e692-4890-93fd-831091f34d1b\">\n\t<ok/>\n</rpc-reply>\n\n<?xml version=\"1.0\" ?>\n<rpc-reply xmlns=\"urn:ietf:params:xml:ns:netconf:base:1.0\" xmlns:nc=\"urn:ietf:params:xml:ns:netconf:base:1.0\" message-id=\"urn:uuid:d2846fa7-5fac-410a-ba10-d45a9f4258fd\">\n\t<ok/>\n</rpc-reply>\n\n<?xml version=\"1.0\" ?>\n<rpc-reply xmlns=\"urn:ietf:params:xml:ns:netconf:base:1.0\" xmlns:nc=\"urn:ietf:params:xml:ns:netconf:base:1.0\" message-id=\"urn:uuid:650870a9-25ae-4baa-8f65-4e624694a868\">\n\t<ok/>\n</rpc-reply>\n\n<?xml version=\"1.0\" ?>\n<rpc-reply xmlns=\"urn:ietf:params:xml:ns:netconf:base:1.0\" xmlns:nc=\"urn:ietf:params:xml:ns:netconf:base:1.0\" message-id=\"urn:uuid:920fa6f3-2cfe-4cb0-a03a-257adf3c346f\">\n\t<ok/>\n</rpc-reply>\n\n<?xml version=\"1.0\" ?>\n<rpc-reply xmlns=\"urn:ietf:params:xml:ns:netconf:base:1.0\" xmlns:nc=\"urn:ietf:params:xml:ns:netconf:base:1.0\" message-id=\"urn:uuid:a57617f2-14f4-490d-8c5a-cfaac2ed70c3\">\n\t<ok/>\n</rpc-reply>\n\n<?xml version=\"1.0\" ?>\n<rpc-reply xmlns=\"urn:ietf:params:xml:ns:netconf:base:1.0\" xmlns:nc=\"urn:ietf:params:xml:ns:netconf:base:1.0\" message-id=\"urn:uuid:f3985747-5f9c-4dad-aa65-7398b3bcf238\">\n\t<ok/>\n</rpc-reply>\n\n<?xml version=\"1.0\" ?>\n<rpc-reply xmlns=\"urn:ietf:params:xml:ns:netconf:base:1.0\" xmlns:nc=\"urn:ietf:params:xml:ns:netconf:base:1.0\" message-id=\"urn:uuid:cd5cf325-dacc-4664-8110-950666f35582\">\n\t<ok/>\n</rpc-reply>\n\n<?xml version=\"1.0\" ?>\n<rpc-reply xmlns=\"urn:ietf:params:xml:ns:netconf:base:1.0\" xmlns:nc=\"urn:ietf:params:xml:ns:netconf:base:1.0\" message-id=\"urn:uuid:5ad2c432-f129-4099-b035-63fd91d40989\">\n\t<ok/>\n</rpc-reply>\n\n"
    }
   ],
   "source": [
    "netconf_interface_template = \"\"\"\n",
    " <config>\n",
    "     <interfaces xmlns=\"urn:ietf:params:xml:ns:yang:ietf-interfaces\">\n",
    "         <interface>\n",
    "             <name>{name}</name>\n",
    "             <description>{desc} - Configured with netconf</description>\n",
    "             <type xmlns:ianaift=\"urn:ietf:params:xml:ns:yang:iana-if-type\">\n",
    "                 {type}\n",
    "             </type>\n",
    "             <enabled>{status}</enabled>\n",
    "             <ipv4 xmlns=\"urn:ietf:params:xml:ns:yang:ietf-ip\">\n",
    "                 <address>\n",
    "                     <ip>{ip_address}</ip>\n",
    "                     <netmask>{mask}</netmask>\n",
    "                 </address>\n",
    "             </ipv4>\n",
    "         </interface>\n",
    "     </interfaces>\n",
    " </config>\"\"\"\n",
    "\n",
    "for i in range(200, 211):\n",
    "    loopback = {}\n",
    "    loopback[\"name\"] = f\"Loopback {i}\"\n",
    "    loopback[\"desc\"] = f\"Loopback {i}\"\n",
    "    loopback[\"type\"] = 'ianaift:softwareLoopback'\n",
    "    loopback[\"status\"] = \"true\"\n",
    "    loopback[\"ip_address\"] = f\"100.64.{i}.1\"\n",
    "    loopback[\"mask\"] = \"255.255.255.255\"\n",
    "    \n",
    "\n",
    "    loopback_model = netconf_interface_template.format(\n",
    "         name = loopback[\"name\"],\n",
    "         desc = loopback[\"desc\"],\n",
    "         type = loopback[\"type\"],\n",
    "         status = loopback[\"status\"],\n",
    "         ip_address = loopback[\"ip_address\"],\n",
    "         mask = loopback[\"mask\"]\n",
    "    )\n",
    "    #print(loopback_model)\n",
    "    netconf_reply = m.edit_config(loopback_model, target = 'running')\n",
    "    print(xml.dom.minidom.parseString(netconf_reply.xml).toprettyxml())"
   ]
  },
  {
   "cell_type": "code",
   "execution_count": null,
   "metadata": {},
   "outputs": [],
   "source": []
  }
 ]
}